{
 "cells": [
  {
   "cell_type": "code",
   "execution_count": 2,
   "metadata": {},
   "outputs": [],
   "source": [
    "import pandas as pd\n",
    "import numpy as np\n",
    "import gzip\n",
    "import shutil\n",
    "import time \n",
    "import matplotlib.pyplot as plt"
   ]
  },
  {
   "cell_type": "code",
   "execution_count": 2,
   "metadata": {},
   "outputs": [
    {
     "name": "stdout",
     "output_type": "stream",
     "text": [
      "Genetic-Variation/project/testdata/bam/HG00154.mapped.ILLUMINA.bwa.GBR.low_coverage.20101123.bam\n"
     ]
    }
   ],
   "source": [
    "# Take in BAM\n",
    "bam = ('Genetic-Variation/project/testdata/bam/HG00154.mapped.ILLUMINA.bwa.GBR.low_coverage.20101123.bam')\n",
    "with open (bam) as fh:\n",
    "    print(bam)"
   ]
  },
  {
   "cell_type": "code",
   "execution_count": 3,
   "metadata": {},
   "outputs": [
    {
     "name": "stdout",
     "output_type": "stream",
     "text": [
      "<_io.TextIOWrapper name='Genetic-Variation/project/testdata/fastq/SP1.fq' mode='r' encoding='UTF-8'>\n"
     ]
    }
   ],
   "source": [
    "# Take in FASTQ \n",
    "fastq= ('Genetic-Variation/project/testdata/fastq/SP1.fq')\n",
    "with open (fastq) as fh:\n",
    "    print(fh)"
   ]
  },
  {
   "cell_type": "code",
   "execution_count": 2,
   "metadata": {},
   "outputs": [],
   "source": [
    "vcf = ('Genetic-Variation/project/testdata/vcf/chr22_test.vcf.gz')\n"
   ]
  },
  {
   "cell_type": "code",
   "execution_count": 4,
   "metadata": {},
   "outputs": [
    {
     "name": "stdout",
     "output_type": "stream",
     "text": [
      "<_io.TextIOWrapper name='Genetic-Variation/project/testdata/fastq/SP1.fq' mode='r' encoding='UTF-8'>\n"
     ]
    }
   ],
   "source": [
    "# Take in VCF\n",
    "vcf = ('Genetic-Variation/project/testdata/vcf/chr22_test.vcf.gz')\n",
    "with gzip.open (vcf,'rb') as f_in:\n",
    "    print(fh)\n",
    "    with open(vcf[:-3], 'wb') as f_out: \n",
    "        shutil.copyfileobj(f_in, f_out)"
   ]
  },
  {
   "cell_type": "code",
   "execution_count": 5,
   "metadata": {},
   "outputs": [],
   "source": [
    "# Non Testing VCF's\n",
    "ch21=('/datasets/dsc180a-wi20-public/Genome/vcf/ALL.chr22.shapeit2_integrated_v1a.GRCh38.20181129.phased.vcf.gz')\n",
    "ch20= ('datasets/dsc180a-wi20-public/Genome/vcf/ALL.chr20.shapeit2_integrated_v1a.GRCh38.20181129.phased.vcf.gz')"
   ]
  },
  {
   "cell_type": "code",
   "execution_count": 35,
   "metadata": {},
   "outputs": [
    {
     "ename": "FileNotFoundError",
     "evalue": "[Errno 2] No such file or directory: 'datasets/dsc180a-wi20-public/Genome/vcf/ALL.chr20.shapeit2_integrated_v1a.GRCh38.20181129.phased.vcf.gz'",
     "output_type": "error",
     "traceback": [
      "\u001b[0;31m\u001b[0m",
      "\u001b[0;31mFileNotFoundError\u001b[0mTraceback (most recent call last)",
      "\u001b[0;32m<ipython-input-35-55733e2f9e35>\u001b[0m in \u001b[0;36m<module>\u001b[0;34m\u001b[0m\n\u001b[1;32m      1\u001b[0m \u001b[0;31m# Take in VCF\u001b[0m\u001b[0;34m\u001b[0m\u001b[0;34m\u001b[0m\u001b[0;34m\u001b[0m\u001b[0m\n\u001b[0;32m----> 2\u001b[0;31m \u001b[0;32mwith\u001b[0m \u001b[0mgzip\u001b[0m\u001b[0;34m.\u001b[0m\u001b[0mopen\u001b[0m \u001b[0;34m(\u001b[0m\u001b[0mch20\u001b[0m\u001b[0;34m,\u001b[0m\u001b[0;34m'rb'\u001b[0m\u001b[0;34m)\u001b[0m \u001b[0;32mas\u001b[0m \u001b[0mf_in\u001b[0m\u001b[0;34m:\u001b[0m\u001b[0;34m\u001b[0m\u001b[0;34m\u001b[0m\u001b[0m\n\u001b[0m\u001b[1;32m      3\u001b[0m     \u001b[0;32mwith\u001b[0m \u001b[0mopen\u001b[0m\u001b[0;34m(\u001b[0m\u001b[0mch20\u001b[0m\u001b[0;34m[\u001b[0m\u001b[0;34m:\u001b[0m\u001b[0;34m-\u001b[0m\u001b[0;36m3\u001b[0m\u001b[0;34m]\u001b[0m\u001b[0;34m,\u001b[0m \u001b[0;34m'wb'\u001b[0m\u001b[0;34m)\u001b[0m \u001b[0;32mas\u001b[0m \u001b[0mf_out\u001b[0m\u001b[0;34m:\u001b[0m\u001b[0;34m\u001b[0m\u001b[0;34m\u001b[0m\u001b[0m\n\u001b[1;32m      4\u001b[0m         \u001b[0mshutil\u001b[0m\u001b[0;34m.\u001b[0m\u001b[0mcopyfileobj\u001b[0m\u001b[0;34m(\u001b[0m\u001b[0mf_in\u001b[0m\u001b[0;34m,\u001b[0m \u001b[0mf_out\u001b[0m\u001b[0;34m)\u001b[0m\u001b[0;34m\u001b[0m\u001b[0;34m\u001b[0m\u001b[0m\n",
      "\u001b[0;32m/opt/conda/lib/python3.7/gzip.py\u001b[0m in \u001b[0;36mopen\u001b[0;34m(filename, mode, compresslevel, encoding, errors, newline)\u001b[0m\n\u001b[1;32m     51\u001b[0m     \u001b[0mgz_mode\u001b[0m \u001b[0;34m=\u001b[0m \u001b[0mmode\u001b[0m\u001b[0;34m.\u001b[0m\u001b[0mreplace\u001b[0m\u001b[0;34m(\u001b[0m\u001b[0;34m\"t\"\u001b[0m\u001b[0;34m,\u001b[0m \u001b[0;34m\"\"\u001b[0m\u001b[0;34m)\u001b[0m\u001b[0;34m\u001b[0m\u001b[0;34m\u001b[0m\u001b[0m\n\u001b[1;32m     52\u001b[0m     \u001b[0;32mif\u001b[0m \u001b[0misinstance\u001b[0m\u001b[0;34m(\u001b[0m\u001b[0mfilename\u001b[0m\u001b[0;34m,\u001b[0m \u001b[0;34m(\u001b[0m\u001b[0mstr\u001b[0m\u001b[0;34m,\u001b[0m \u001b[0mbytes\u001b[0m\u001b[0;34m,\u001b[0m \u001b[0mos\u001b[0m\u001b[0;34m.\u001b[0m\u001b[0mPathLike\u001b[0m\u001b[0;34m)\u001b[0m\u001b[0;34m)\u001b[0m\u001b[0;34m:\u001b[0m\u001b[0;34m\u001b[0m\u001b[0;34m\u001b[0m\u001b[0m\n\u001b[0;32m---> 53\u001b[0;31m         \u001b[0mbinary_file\u001b[0m \u001b[0;34m=\u001b[0m \u001b[0mGzipFile\u001b[0m\u001b[0;34m(\u001b[0m\u001b[0mfilename\u001b[0m\u001b[0;34m,\u001b[0m \u001b[0mgz_mode\u001b[0m\u001b[0;34m,\u001b[0m \u001b[0mcompresslevel\u001b[0m\u001b[0;34m)\u001b[0m\u001b[0;34m\u001b[0m\u001b[0;34m\u001b[0m\u001b[0m\n\u001b[0m\u001b[1;32m     54\u001b[0m     \u001b[0;32melif\u001b[0m \u001b[0mhasattr\u001b[0m\u001b[0;34m(\u001b[0m\u001b[0mfilename\u001b[0m\u001b[0;34m,\u001b[0m \u001b[0;34m\"read\"\u001b[0m\u001b[0;34m)\u001b[0m \u001b[0;32mor\u001b[0m \u001b[0mhasattr\u001b[0m\u001b[0;34m(\u001b[0m\u001b[0mfilename\u001b[0m\u001b[0;34m,\u001b[0m \u001b[0;34m\"write\"\u001b[0m\u001b[0;34m)\u001b[0m\u001b[0;34m:\u001b[0m\u001b[0;34m\u001b[0m\u001b[0;34m\u001b[0m\u001b[0m\n\u001b[1;32m     55\u001b[0m         \u001b[0mbinary_file\u001b[0m \u001b[0;34m=\u001b[0m \u001b[0mGzipFile\u001b[0m\u001b[0;34m(\u001b[0m\u001b[0;32mNone\u001b[0m\u001b[0;34m,\u001b[0m \u001b[0mgz_mode\u001b[0m\u001b[0;34m,\u001b[0m \u001b[0mcompresslevel\u001b[0m\u001b[0;34m,\u001b[0m \u001b[0mfilename\u001b[0m\u001b[0;34m)\u001b[0m\u001b[0;34m\u001b[0m\u001b[0;34m\u001b[0m\u001b[0m\n",
      "\u001b[0;32m/opt/conda/lib/python3.7/gzip.py\u001b[0m in \u001b[0;36m__init__\u001b[0;34m(self, filename, mode, compresslevel, fileobj, mtime)\u001b[0m\n\u001b[1;32m    161\u001b[0m             \u001b[0mmode\u001b[0m \u001b[0;34m+=\u001b[0m \u001b[0;34m'b'\u001b[0m\u001b[0;34m\u001b[0m\u001b[0;34m\u001b[0m\u001b[0m\n\u001b[1;32m    162\u001b[0m         \u001b[0;32mif\u001b[0m \u001b[0mfileobj\u001b[0m \u001b[0;32mis\u001b[0m \u001b[0;32mNone\u001b[0m\u001b[0;34m:\u001b[0m\u001b[0;34m\u001b[0m\u001b[0;34m\u001b[0m\u001b[0m\n\u001b[0;32m--> 163\u001b[0;31m             \u001b[0mfileobj\u001b[0m \u001b[0;34m=\u001b[0m \u001b[0mself\u001b[0m\u001b[0;34m.\u001b[0m\u001b[0mmyfileobj\u001b[0m \u001b[0;34m=\u001b[0m \u001b[0mbuiltins\u001b[0m\u001b[0;34m.\u001b[0m\u001b[0mopen\u001b[0m\u001b[0;34m(\u001b[0m\u001b[0mfilename\u001b[0m\u001b[0;34m,\u001b[0m \u001b[0mmode\u001b[0m \u001b[0;32mor\u001b[0m \u001b[0;34m'rb'\u001b[0m\u001b[0;34m)\u001b[0m\u001b[0;34m\u001b[0m\u001b[0;34m\u001b[0m\u001b[0m\n\u001b[0m\u001b[1;32m    164\u001b[0m         \u001b[0;32mif\u001b[0m \u001b[0mfilename\u001b[0m \u001b[0;32mis\u001b[0m \u001b[0;32mNone\u001b[0m\u001b[0;34m:\u001b[0m\u001b[0;34m\u001b[0m\u001b[0;34m\u001b[0m\u001b[0m\n\u001b[1;32m    165\u001b[0m             \u001b[0mfilename\u001b[0m \u001b[0;34m=\u001b[0m \u001b[0mgetattr\u001b[0m\u001b[0;34m(\u001b[0m\u001b[0mfileobj\u001b[0m\u001b[0;34m,\u001b[0m \u001b[0;34m'name'\u001b[0m\u001b[0;34m,\u001b[0m \u001b[0;34m''\u001b[0m\u001b[0;34m)\u001b[0m\u001b[0;34m\u001b[0m\u001b[0;34m\u001b[0m\u001b[0m\n",
      "\u001b[0;31mFileNotFoundError\u001b[0m: [Errno 2] No such file or directory: 'datasets/dsc180a-wi20-public/Genome/vcf/ALL.chr20.shapeit2_integrated_v1a.GRCh38.20181129.phased.vcf.gz'"
     ]
    }
   ],
   "source": [
    "# Take in VCF\n",
    "with gzip.open (ch20,'rb') as f_in:\n",
    "    with open(ch20[:-3], 'wb') as f_out: \n",
    "        shutil.copyfileobj(f_in, f_out)"
   ]
  },
  {
   "cell_type": "code",
   "execution_count": 28,
   "metadata": {},
   "outputs": [
    {
     "name": "stdout",
     "output_type": "stream",
     "text": [
      "Using GATK jar /opt/gatk-4.1.4.1/gatk-package-4.1.4.1-local.jar\n",
      "Running:\n",
      "    java -Dsamjdk.use_async_io_read_samtools=false -Dsamjdk.use_async_io_write_samtools=true -Dsamjdk.use_async_io_write_tribble=false -Dsamjdk.compression_level=2 -jar /opt/gatk-4.1.4.1/gatk-package-4.1.4.1-local.jar MergeVcfs --INPUT ch20 ch21 --OUTPUT merger\n",
      "USAGE: MergeVcfs [arguments]\n",
      "\n",
      "<p>Combines multiple variant files into a single variant file.</p><h3>Inputs</h3><ul>      <li>One or more input file in\n",
      "VCF format (can be gzipped, i.e. ending in \".vcf.gz\", or binary compressed, i.e. ending in \".bcf\").</li>     \n",
      "<li>Optionally a sequence dictionary file (typically name ending in .dict) if the input VCF does not contain a         \n",
      "complete contig list and if the output index is to be created (true by default).</li>  </ul>  <p>  The input variant\n",
      "data must adhere to the following rules:</p>     <ul>         <li>If there are samples, those must be the same across\n",
      "all input files.</li>         <li>Input file headers must be contain compatible declarations for common annotations\n",
      "(INFO, FORMAT fields) and filters.</li>         <li>Input files variant records must be sorted by their contig and\n",
      "position following the sequence dictionary provided         or the header contig list.</li>     </ul> <p>You can either\n",
      "directly specify the list of files by specifying <code>INPUT</code> multiple times, or provide a list     in a file with\n",
      "name ending in \".list\" to <code>INPUT</code>.</p> <h3>Outputs</h3> <p>A VCF sorted (i) according to the dictionary and\n",
      "(ii) by coordinate.</p> <h3>Usage examples</h3> <h4>Example 1:</h4> <p>We combine several variant files in different\n",
      "formats, where at least one of them contains the contig list in its header.</p> <pre>java -jar picard.jar MergeVcfs \\\n",
      "I=input_variants.01.vcf \\\n",
      "I=input_variants.02.vcf.gz \\\n",
      "O=output_variants.vcf.gz</pre> <h4>Example 2:</h4> <p>Similar to example 1 but we use an input list file to specify the\n",
      "input files:</p> <pre>java -jar picard.jar MergeVcfs \\\n",
      "I=input_variant_files.list \\\n",
      "O=output_variants.vcf.gz</pre><hr/>\n",
      "Version:4.1.4.1\n",
      "\n",
      "\n",
      "Required Arguments:\n",
      "\n",
      "--INPUT,-I:File               VCF or BCF input files (File format is determined by file extension), or a file having a\n",
      "                              '.list' suffix containing the path to the files, one per line.  This argument must be\n",
      "                              specified at least once. Required. \n",
      "\n",
      "--OUTPUT,-O:File              The merged VCF or BCF file. File format is determined by file extension.  Required. \n",
      "\n",
      "\n",
      "Optional Arguments:\n",
      "\n",
      "--arguments_file:File         read one or more arguments files and add them to the command line  This argument may be\n",
      "                              specified 0 or more times. Default value: null. \n",
      "\n",
      "--help,-h:Boolean             display the help message  Default value: false. Possible values: {true, false} \n",
      "\n",
      "--SEQUENCE_DICTIONARY,-D:File The index sequence dictionary to use instead of the sequence dictionary in the input files\n",
      "                              Default value: null. \n",
      "\n",
      "--version:Boolean             display the version number for this tool  Default value: false. Possible values: {true,\n",
      "                              false} \n",
      "\n",
      "\n",
      "Advanced Arguments:\n",
      "\n",
      "--showHidden,-showHidden:Boolean\n",
      "                              display hidden arguments  Default value: false. Possible values: {true, false} \n",
      "\n",
      "\n",
      "Invalid argument 'ch21'.\n",
      "Tool returned:\n",
      "1\n"
     ]
    }
   ],
   "source": [
    "!gatk MergeVcfs --INPUT ch20 ch21 --OUTPUT merger"
   ]
  },
  {
   "cell_type": "code",
   "execution_count": 5,
   "metadata": {
    "scrolled": true
   },
   "outputs": [
    {
     "name": "stdout",
     "output_type": "stream",
     "text": [
      "b'##fileformat=VCFv4.3\\n'\n",
      "b'##FILTER=<ID=PASS,Description=\"All filters passed\">\\n'\n",
      "b'##fileDate=31052018_15h52m43s\\n'\n",
      "b'##source=IGSRpipeline\\n'\n",
      "b'##reference=ftp://ftp.1000genomes.ebi.ac.uk/vol1/ftp/technical/reference/GRCh38_reference_genome/GRCh38_full_analysis_set_plus_decoy_hla.fa\\n'\n",
      "b'##FORMAT=<ID=GT,Number=1,Type=String,Description=\"Phased Genotype\">\\n'\n",
      "b'##contig=<ID=chr22>\\n'\n",
      "b'##INFO=<ID=AF,Number=A,Type=Float,Description=\"Estimated allele frequency in the range (0,1)\">\\n'\n",
      "b'##INFO=<ID=AC,Number=A,Type=Integer,Description=\"Total number of alternate alleles in called genotypes\">\\n'\n",
      "b'##INFO=<ID=NS,Number=1,Type=Integer,Description=\"Number of samples with data\">\\n'\n",
      "b'##INFO=<ID=AN,Number=1,Type=Integer,Description=\"Total number of alleles in called genotypes\">\\n'\n"
     ]
    }
   ],
   "source": [
    "# View formatting of VCF File \n",
    "amt = 10\n",
    "with open ('Genetic-Variation/project/testdata/vcf/chr22_test.vcf','rb') as fh:\n",
    "    for i in fh:\n",
    "        print(i)\n",
    "        if amt<=0:\n",
    "            break\n",
    "        time.sleep(0.1)\n",
    "        amt -= 1"
   ]
  },
  {
   "cell_type": "code",
   "execution_count": 6,
   "metadata": {},
   "outputs": [
    {
     "data": {
      "text/plain": [
       "<_io.BufferedWriter name='Genetic-Variation/project/testdata/vcf/chr22_test.vcf'>"
      ]
     },
     "execution_count": 6,
     "metadata": {},
     "output_type": "execute_result"
    }
   ],
   "source": [
    "f_out"
   ]
  },
  {
   "cell_type": "code",
   "execution_count": 7,
   "metadata": {},
   "outputs": [
    {
     "name": "stdout",
     "output_type": "stream",
     "text": [
      "PLINK v1.90p 64-bit (25 Mar 2016)          https://www.cog-genomics.org/plink2\n",
      "(C) 2005-2016 Shaun Purcell, Christopher Chang   GNU General Public License v3\n",
      "Logging to chr22.log.\n",
      "Options in effect:\n",
      "  --make-bed\n",
      "  --out chr22\n",
      "  --vcf Genetic-Variation/project/testdata/vcf/chr22_test.vcf\n",
      "\n",
      "385382 MB RAM detected; reserving 192691 MB for main workspace.\n",
      "--vcf: chr22-temporary.bed + chr22-temporary.bim + chr22-temporary.fam written.\n",
      "25078 variants loaded from .bim file.\n",
      "2548 people (0 males, 0 females, 2548 ambiguous) loaded from .fam.\n",
      "Ambiguous sex IDs written to chr22.nosex .\n",
      "Using 1 thread (no multithreaded calculations invoked).\n",
      "Before main variant filters, 2548 founders and 0 nonfounders present.\n",
      "Calculating allele frequencies... 10111213141516171819202122232425262728293031323334353637383940414243444546474849505152535455565758596061626364656667686970717273747576777879808182838485868788899091929394959697989 done.\n",
      "25078 variants and 2548 people pass filters and QC.\n",
      "Note: No phenotypes present.\n",
      "--make-bed to chr22.bed + chr22.bim + chr22.fam ... 101112131415161718192021222324252627282930313233343536373839404142434445464748495051525354555657585960616263646566676869707172737475767778798081828384858687888990919293949596979899done.\n"
     ]
    }
   ],
   "source": [
    "!plink2 --vcf 'Genetic-Variation/project/testdata/vcf/chr22_test.vcf' --make-bed --out chr22"
   ]
  },
  {
   "cell_type": "code",
   "execution_count": 8,
   "metadata": {},
   "outputs": [
    {
     "name": "stdout",
     "output_type": "stream",
     "text": [
      "PLINK v1.90p 64-bit (25 Mar 2016)          https://www.cog-genomics.org/plink2\n",
      "(C) 2005-2016 Shaun Purcell, Christopher Chang   GNU General Public License v3\n",
      "Logging to plink.log.\n",
      "Options in effect:\n",
      "  --bfile chr22\n",
      "  --freq\n",
      "\n",
      "385382 MB RAM detected; reserving 192691 MB for main workspace.\n",
      "25078 variants loaded from .bim file.\n",
      "2548 people (0 males, 0 females, 2548 ambiguous) loaded from .fam.\n",
      "Ambiguous sex IDs written to plink.nosex .\n",
      "Using 1 thread (no multithreaded calculations invoked).\n",
      "Before main variant filters, 2548 founders and 0 nonfounders present.\n",
      "Calculating allele frequencies... 10111213141516171819202122232425262728293031323334353637383940414243444546474849505152535455565758596061626364656667686970717273747576777879808182838485868788899091929394959697989 done.\n",
      "--freq: Allele frequencies (founders only) written to plink.frq .\n"
     ]
    }
   ],
   "source": [
    "!plink2 --bfile chr22 --freq"
   ]
  },
  {
   "cell_type": "code",
   "execution_count": 9,
   "metadata": {},
   "outputs": [
    {
     "name": "stdout",
     "output_type": "stream",
     "text": [
      "PLINK v1.90p 64-bit (25 Mar 2016)          https://www.cog-genomics.org/plink2\n",
      "(C) 2005-2016 Shaun Purcell, Christopher Chang   GNU General Public License v3\n",
      "Logging to filtered.log.\n",
      "Options in effect:\n",
      "  --bfile chr22\n",
      "  --maf 0.4\n",
      "  --make-bed\n",
      "  --mind 0.05\n",
      "  --out filtered\n",
      "  --recode\n",
      "  --snps-only\n",
      "\n",
      "385382 MB RAM detected; reserving 192691 MB for main workspace.\n",
      "25078 variants loaded from .bim file.\n",
      "2548 people (0 males, 0 females, 2548 ambiguous) loaded from .fam.\n",
      "Ambiguous sex IDs written to filtered.nosex .\n",
      "0 people removed due to missing genotype data (--mind).\n",
      "Using 1 thread (no multithreaded calculations invoked).\n",
      "Before main variant filters, 2548 founders and 0 nonfounders present.\n",
      "Calculating allele frequencies... 10111213141516171819202122232425262728293031323334353637383940414243444546474849505152535455565758596061626364656667686970717273747576777879808182838485868788899091929394959697989 done.\n",
      "24708 variants removed due to minor allele threshold(s)\n",
      "(--maf/--max-maf/--mac/--max-mac).\n",
      "370 variants and 2548 people pass filters and QC.\n",
      "Note: No phenotypes present.\n",
      "--make-bed to filtered.bed + filtered.bim + filtered.fam ... 101112131415161718192021222324252627282930313233343536373839404142434445464748495051525354555657585960616263646566676869707172737475767778798081828384858687888990919293949596979899done.\n",
      "--recode to filtered.ped + filtered.map ... 101112131415161718192021222324252627282930313233343536373839404142434445464748495051525354555657585960616263646566676869707172737475767778798081828384858687888990919293949596979899done.\n"
     ]
    }
   ],
   "source": [
    "!plink2 --bfile chr22 --snps-only --maf 0.4 --make-bed --mind 0.05 --recode --out filtered"
   ]
  },
  {
   "cell_type": "code",
   "execution_count": 10,
   "metadata": {},
   "outputs": [
    {
     "name": "stdout",
     "output_type": "stream",
     "text": [
      "PLINK v1.90p 64-bit (25 Mar 2016)          https://www.cog-genomics.org/plink2\n",
      "(C) 2005-2016 Shaun Purcell, Christopher Chang   GNU General Public License v3\n",
      "Logging to plink.log.\n",
      "Options in effect:\n",
      "  --bfile filtered\n",
      "  --pca 2\n",
      "\n",
      "385382 MB RAM detected; reserving 192691 MB for main workspace.\n",
      "370 variants loaded from .bim file.\n",
      "2548 people (0 males, 0 females, 2548 ambiguous) loaded from .fam.\n",
      "Ambiguous sex IDs written to plink.nosex .\n",
      "Using up to 79 threads (change this with --threads).\n",
      "Before main variant filters, 2548 founders and 0 nonfounders present.\n",
      "Calculating allele frequencies... 10111213141516171819202122232425262728293031323334353637383940414243444546474849505152535455565758596061626364656667686970717273747576777879808182838485868788899091929394959697989 done.\n",
      "370 variants and 2548 people pass filters and QC.\n",
      "Note: No phenotypes present.\n",
      "Relationship matrix calculation complete.\n",
      "[extracting eigenvalues and eigenvectors]^C\n",
      "\n",
      "CPU times: user 12.2 s, sys: 2.49 s, total: 14.7 s\n",
      "Wall time: 17min 4s\n"
     ]
    }
   ],
   "source": [
    "%time !plink2 --bfile filtered --pca 2 "
   ]
  },
  {
   "cell_type": "code",
   "execution_count": 3,
   "metadata": {},
   "outputs": [
    {
     "data": {
      "text/html": [
       "<div>\n",
       "<style scoped>\n",
       "    .dataframe tbody tr th:only-of-type {\n",
       "        vertical-align: middle;\n",
       "    }\n",
       "\n",
       "    .dataframe tbody tr th {\n",
       "        vertical-align: top;\n",
       "    }\n",
       "\n",
       "    .dataframe thead th {\n",
       "        text-align: right;\n",
       "    }\n",
       "</style>\n",
       "<table border=\"1\" class=\"dataframe\">\n",
       "  <thead>\n",
       "    <tr style=\"text-align: right;\">\n",
       "      <th></th>\n",
       "      <th>0</th>\n",
       "    </tr>\n",
       "  </thead>\n",
       "  <tbody>\n",
       "    <tr>\n",
       "      <th>0</th>\n",
       "      <td>366.680</td>\n",
       "    </tr>\n",
       "    <tr>\n",
       "      <th>1</th>\n",
       "      <td>225.144</td>\n",
       "    </tr>\n",
       "  </tbody>\n",
       "</table>\n",
       "</div>"
      ],
      "text/plain": [
       "         0\n",
       "0  366.680\n",
       "1  225.144"
      ]
     },
     "execution_count": 3,
     "metadata": {},
     "output_type": "execute_result"
    }
   ],
   "source": [
    "eigenval = pd.read_csv('plink.eigenval', header= None)\n",
    "eigenval\n"
   ]
  },
  {
   "cell_type": "code",
   "execution_count": 6,
   "metadata": {},
   "outputs": [
    {
     "data": {
      "image/png": "[encoded data removed]",
      "text/plain": [
       "<Figure size 432x288 with 1 Axes>"
      ]
     },
     "metadata": {
      "needs_background": "light"
     },
     "output_type": "display_data"
    }
   ],
   "source": [
    "eigenvec = pd.read_csv('plink.eigenvec', delimiter=' ',header=None, names= ['a','b','x','y'])\n",
    "pca = plt.scatter(eigenvec['x'], eigenvec['y'], s=2)\n",
    "plt.savefig('pca.png)"
   ]
  },
  {
   "cell_type": "code",
   "execution_count": 55,
   "metadata": {},
   "outputs": [],
   "source": []
  },
  {
   "cell_type": "code",
   "execution_count": 56,
   "metadata": {},
   "outputs": [
    {
     "ename": "SyntaxError",
     "evalue": "invalid syntax (<ipython-input-56-5d52ed81f9d9>, line 2)",
     "output_type": "error",
     "traceback": [
      "\u001b[0;36m  File \u001b[0;32m\"<ipython-input-56-5d52ed81f9d9>\"\u001b[0;36m, line \u001b[0;32m2\u001b[0m\n\u001b[0;31m    bwa --mem --fastq | samtools sort -o output.bam -\u001b[0m\n\u001b[0m                                    ^\u001b[0m\n\u001b[0;31mSyntaxError\u001b[0m\u001b[0;31m:\u001b[0m invalid syntax\n"
     ]
    }
   ],
   "source": [
    "# BWA: fastq to BAM\n",
    "bwa --mem --fastq | samtools sort -o output.bam -"
   ]
  },
  {
   "cell_type": "code",
   "execution_count": 7,
   "metadata": {},
   "outputs": [
    {
     "name": "stdout",
     "output_type": "stream",
     "text": [
      "[bwa_index] Pack FASTA... 0.00 sec\r\n",
      "[bwa_index] Construct BWT for the packed sequence...\r\n",
      "[bwa_index] 0.00 seconds elapse.\r\n",
      "[bwa_index] Update BWT... 0.00 sec\r\n",
      "[bwa_index] Pack forward-only FASTA... 0.00 sec\r\n",
      "[bwa_index] Construct SA from BWT and Occ... 0.00 sec\r\n",
      "[main] Version: 0.7.15-r1140\r\n",
      "[main] CMD: bwa index Genetic-Variation/project/testdata/fastq/SP1.fq\r\n",
      "[main] Real time: 0.038 sec; CPU: 0.011 sec\r\n"
     ]
    }
   ],
   "source": [
    "!bwa index 'Genetic-Variation/project/testdata/fastq/SP1.fq'"
   ]
  },
  {
   "cell_type": "code",
   "execution_count": 8,
   "metadata": {},
   "outputs": [
    {
     "name": "stdout",
     "output_type": "stream",
     "text": [
      "\r\n",
      "Usage: bwa mem [options] <idxbase> <in1.fq> [in2.fq]\r\n",
      "\r\n",
      "Algorithm options:\r\n",
      "\r\n",
      "       -t INT        number of threads [1]\r\n",
      "       -k INT        minimum seed length [19]\r\n",
      "       -w INT        band width for banded alignment [100]\r\n",
      "       -d INT        off-diagonal X-dropoff [100]\r\n",
      "       -r FLOAT      look for internal seeds inside a seed longer than {-k} * FLOAT [1.5]\r\n",
      "       -y INT        seed occurrence for the 3rd round seeding [20]\r\n",
      "       -c INT        skip seeds with more than INT occurrences [500]\r\n",
      "       -D FLOAT      drop chains shorter than FLOAT fraction of the longest overlapping chain [0.50]\r\n",
      "       -W INT        discard a chain if seeded bases shorter than INT [0]\r\n",
      "       -m INT        perform at most INT rounds of mate rescues for each read [50]\r\n",
      "       -S            skip mate rescue\r\n",
      "       -P            skip pairing; mate rescue performed unless -S also in use\r\n",
      "\r\n",
      "Scoring options:\r\n",
      "\r\n",
      "       -A INT        score for a sequence match, which scales options -TdBOELU unless overridden [1]\r\n",
      "       -B INT        penalty for a mismatch [4]\r\n",
      "       -O INT[,INT]  gap open penalties for deletions and insertions [6,6]\r\n",
      "       -E INT[,INT]  gap extension penalty; a gap of size k cost '{-O} + {-E}*k' [1,1]\r\n",
      "       -L INT[,INT]  penalty for 5'- and 3'-end clipping [5,5]\r\n",
      "       -U INT        penalty for an unpaired read pair [17]\r\n",
      "\r\n",
      "       -x STR        read type. Setting -x changes multiple parameters unless overriden [null]\r\n",
      "                     pacbio: -k17 -W40 -r10 -A1 -B1 -O1 -E1 -L0  (PacBio reads to ref)\r\n",
      "                     ont2d: -k14 -W20 -r10 -A1 -B1 -O1 -E1 -L0  (Oxford Nanopore 2D-reads to ref)\r\n",
      "                     intractg: -B9 -O16 -L5  (intra-species contigs to ref)\r\n",
      "\r\n",
      "Input/output options:\r\n",
      "\r\n",
      "       -p            smart pairing (ignoring in2.fq)\r\n",
      "       -R STR        read group header line such as '@RG\\tID:foo\\tSM:bar' [null]\r\n",
      "       -H STR/FILE   insert STR to header if it starts with @; or insert lines in FILE [null]\r\n",
      "       -j            treat ALT contigs as part of the primary assembly (i.e. ignore <idxbase>.alt file)\r\n",
      "\r\n",
      "       -v INT        verbose level: 1=error, 2=warning, 3=message, 4+=debugging [3]\r\n",
      "       -T INT        minimum score to output [30]\r\n",
      "       -h INT[,INT]  if there are <INT hits with score >80% of the max score, output all in XA [5,200]\r\n",
      "       -a            output all alignments for SE or unpaired PE\r\n",
      "       -C            append FASTA/FASTQ comment to SAM output\r\n",
      "       -V            output the reference FASTA header in the XR tag\r\n",
      "       -Y            use soft clipping for supplementary alignments\r\n",
      "       -M            mark shorter split hits as secondary\r\n",
      "\r\n",
      "       -I FLOAT[,FLOAT[,INT[,INT]]]\r\n",
      "                     specify the mean, standard deviation (10% of the mean if absent), max\r\n",
      "                     (4 sigma from the mean if absent) and min of the insert size distribution.\r\n",
      "                     FR orientation only. [inferred]\r\n",
      "\r\n",
      "Note: Please read the man page for detailed description of the command line and options.\r\n",
      "\r\n"
     ]
    }
   ],
   "source": [
    "!bwa mem"
   ]
  },
  {
   "cell_type": "code",
   "execution_count": 2,
   "metadata": {},
   "outputs": [
    {
     "name": "stdout",
     "output_type": "stream",
     "text": [
      "\r\n",
      " Usage template for all tools (uses --spark-runner LOCAL when used with a Spark tool)\r\n",
      "    gatk AnyTool toolArgs\r\n",
      "\r\n",
      " Usage template for Spark tools (will NOT work on non-Spark tools)\r\n",
      "    gatk SparkTool toolArgs  [ -- --spark-runner <LOCAL | SPARK | GCS> sparkArgs ]\r\n",
      "\r\n",
      " Getting help\r\n",
      "    gatk --list       Print the list of available tools\r\n",
      "\r\n",
      "    gatk Tool --help  Print help on a particular tool\r\n",
      "\r\n",
      " Configuration File Specification\r\n",
      "     --gatk-config-file                PATH/TO/GATK/PROPERTIES/FILE\r\n",
      "\r\n",
      " gatk forwards commands to GATK and adds some sugar for submitting spark jobs\r\n",
      "\r\n",
      "   --spark-runner <target>    controls how spark tools are run\r\n",
      "     valid targets are:\r\n",
      "     LOCAL:      run using the in-memory spark runner\r\n",
      "     SPARK:      run using spark-submit on an existing cluster \r\n",
      "                 --spark-master must be specified\r\n",
      "                 --spark-submit-command may be specified to control the Spark submit command\r\n",
      "                 arguments to spark-submit may optionally be specified after -- \r\n",
      "     GCS:        run using Google cloud dataproc\r\n",
      "                 commands after the -- will be passed to dataproc\r\n",
      "                 --cluster <your-cluster> must be specified after the --\r\n",
      "                 spark properties and some common spark-submit parameters will be translated \r\n",
      "                 to dataproc equivalents\r\n",
      "\r\n",
      "   --dry-run      may be specified to output the generated command line without running it\r\n",
      "   --java-options 'OPTION1[ OPTION2=Y ... ]'   optional - pass the given string of options to the \r\n",
      "                 java JVM at runtime.  \r\n",
      "                 Java options MUST be passed inside a single string with space-separated values.\r\n"
     ]
    }
   ],
   "source": [
    "!gatk "
   ]
  },
  {
   "cell_type": "code",
   "execution_count": 10,
   "metadata": {},
   "outputs": [
    {
     "name": "stdout",
     "output_type": "stream",
     "text": [
      "Assignment\\ 2.ipynb  chr22.nosex\t     filtered.log\tplink.eigenval\r\n",
      "chr22.bed\t     DSC180A-DS-Methodology  filtered.map\tplink.eigenvec\r\n",
      "chr22.bim\t     filtered.bed\t     filtered.nosex\tplink.frq\r\n",
      "chr22.fam\t     filtered.bim\t     filtered.ped\tplink.log\r\n",
      "chr22.log\t     filtered.fam\t     Genetic-Variation\tplink.nosex\r\n"
     ]
    }
   ],
   "source": [
    "!dir"
   ]
  },
  {
   "cell_type": "code",
   "execution_count": 22,
   "metadata": {},
   "outputs": [
    {
     "name": "stdout",
     "output_type": "stream",
     "text": [
      "Using GATK jar /opt/gatk-4.1.4.1/gatk-package-4.1.4.1-local.jar\n",
      "Running:\n",
      "    java -Dsamjdk.use_async_io_read_samtools=false -Dsamjdk.use_async_io_write_samtools=true -Dsamjdk.use_async_io_write_tribble=false -Dsamjdk.compression_level=2 -jar /opt/gatk-4.1.4.1/gatk-package-4.1.4.1-local.jar MergeVcfs -I /datasets/home/49/049/ds180awi20al/../../datasets/dsc180a-wi20-public/Genome/vcf/ALL.chr22.shapeit2_integrated_v1a.GRCh38.20181129.phased.vcf.gz -I /datasets/home/49/049/ds180awi20al/../../datasets/dsc180a-wi20-public/Genome/vcf/ALL.chr20.shapeit2_integrated_v1a.GRCh38.20181129.phased.vcf.gz -O output.vcf.gz\n",
      "17:32:38.875 INFO  NativeLibraryLoader - Loading libgkl_compression.so from jar:file:/opt/gatk-4.1.4.1/gatk-package-4.1.4.1-local.jar!/com/intel/gkl/native/libgkl_compression.so\n",
      "[Mon Feb 17 17:32:38 PST 2020] MergeVcfs  --INPUT /datasets/home/49/049/ds180awi20al/../../datasets/dsc180a-wi20-public/Genome/vcf/ALL.chr22.shapeit2_integrated_v1a.GRCh38.20181129.phased.vcf.gz --INPUT /datasets/home/49/049/ds180awi20al/../../datasets/dsc180a-wi20-public/Genome/vcf/ALL.chr20.shapeit2_integrated_v1a.GRCh38.20181129.phased.vcf.gz --OUTPUT output.vcf.gz  --VERBOSITY INFO --QUIET false --VALIDATION_STRINGENCY STRICT --COMPRESSION_LEVEL 2 --MAX_RECORDS_IN_RAM 500000 --CREATE_INDEX true --CREATE_MD5_FILE false --GA4GH_CLIENT_SECRETS client_secrets.json --help false --version false --showHidden false --USE_JDK_DEFLATER false --USE_JDK_INFLATER false\n",
      "Feb 17, 2020 5:32:39 PM shaded.cloud_nio.com.google.auth.oauth2.ComputeEngineCredentials runningOnComputeEngine\n",
      "INFO: Failed to detect whether we are running on Google Compute Engine.\n",
      "[Mon Feb 17 17:32:39 PST 2020] Executing as ds180awi20al@ds180awi20al-20326 on Linux 3.10.0-1062.1.1.el7.x86_64 amd64; OpenJDK 64-Bit Server VM 11.0.6+10-post-Ubuntu-1ubuntu118.04.1; Deflater: Intel; Inflater: Intel; Provider GCS is available; Picard version: Version:4.1.4.1\n",
      "[Mon Feb 17 17:32:39 PST 2020] picard.vcf.MergeVcfs done. Elapsed time: 0.00 minutes.\n",
      "Runtime.totalMemory()=186646528\n",
      "To get help, see http://broadinstitute.github.io/picard/index.html#GettingHelp\n",
      "htsjdk.samtools.SAMException: Cannot read non-existent file: file:///datasets/home/49/049/ds180awi20al/../../datasets/dsc180a-wi20-public/Genome/vcf/ALL.chr22.shapeit2_integrated_v1a.GRCh38.20181129.phased.vcf.gz\n",
      "\tat htsjdk.samtools.util.IOUtil.assertFileIsReadable(IOUtil.java:498)\n",
      "\tat htsjdk.samtools.util.IOUtil.assertFileIsReadable(IOUtil.java:485)\n",
      "\tat picard.vcf.MergeVcfs.doWork(MergeVcfs.java:173)\n",
      "\tat picard.cmdline.CommandLineProgram.instanceMain(CommandLineProgram.java:305)\n",
      "\tat org.broadinstitute.hellbender.cmdline.PicardCommandLineProgramExecutor.instanceMain(PicardCommandLineProgramExecutor.java:25)\n",
      "\tat org.broadinstitute.hellbender.Main.runCommandLineProgram(Main.java:163)\n",
      "\tat org.broadinstitute.hellbender.Main.mainEntry(Main.java:206)\n",
      "\tat org.broadinstitute.hellbender.Main.main(Main.java:292)\n"
     ]
    }
   ],
   "source": [
    "# ~/../../datasets/dsc180a-wi20-public/Genome/vcf/\n",
    "!gatk MergeVcfs \\\n",
    "-I ~/../../datasets/dsc180a-wi20-public/Genome/vcf/ALL.chr22.shapeit2_integrated_v1a.GRCh38.20181129.phased.vcf.gz \\\n",
    "-I ~/../../datasets/dsc180a-wi20-public/Genome/vcf/ALL.chr20.shapeit2_integrated_v1a.GRCh38.20181129.phased.vcf.gz \\\n",
    "-O output.vcf.gz"
   ]
  },
  {
   "cell_type": "code",
   "execution_count": 21,
   "metadata": {},
   "outputs": [
    {
     "name": "stdout",
     "output_type": "stream",
     "text": [
      "Using GATK jar /opt/gatk-4.1.4.1/gatk-package-4.1.4.1-local.jar\n",
      "Running:\n",
      "    java -Dsamjdk.use_async_io_read_samtools=false -Dsamjdk.use_async_io_write_samtools=true -Dsamjdk.use_async_io_write_tribble=false -Dsamjdk.compression_level=2 -jar /opt/gatk-4.1.4.1/gatk-package-4.1.4.1-local.jar MergeVcfs -I Genetic-Variation/project/testdata/vcf/chr22_test.vcf.gz -I Genetic-Variation/project/testdata/vcf/chr22_test.vcf.gz -O output.vcf.gz\n",
      "17:31:13.915 INFO  NativeLibraryLoader - Loading libgkl_compression.so from jar:file:/opt/gatk-4.1.4.1/gatk-package-4.1.4.1-local.jar!/com/intel/gkl/native/libgkl_compression.so\n",
      "[Mon Feb 17 17:31:13 PST 2020] MergeVcfs  --INPUT Genetic-Variation/project/testdata/vcf/chr22_test.vcf.gz --INPUT Genetic-Variation/project/testdata/vcf/chr22_test.vcf.gz --OUTPUT output.vcf.gz  --VERBOSITY INFO --QUIET false --VALIDATION_STRINGENCY STRICT --COMPRESSION_LEVEL 2 --MAX_RECORDS_IN_RAM 500000 --CREATE_INDEX true --CREATE_MD5_FILE false --GA4GH_CLIENT_SECRETS client_secrets.json --help false --version false --showHidden false --USE_JDK_DEFLATER false --USE_JDK_INFLATER false\n",
      "Feb 17, 2020 5:31:14 PM shaded.cloud_nio.com.google.auth.oauth2.ComputeEngineCredentials runningOnComputeEngine\n",
      "INFO: Failed to detect whether we are running on Google Compute Engine.\n",
      "[Mon Feb 17 17:31:14 PST 2020] Executing as ds180awi20al@ds180awi20al-20326 on Linux 3.10.0-1062.1.1.el7.x86_64 amd64; OpenJDK 64-Bit Server VM 11.0.6+10-post-Ubuntu-1ubuntu118.04.1; Deflater: Intel; Inflater: Intel; Provider GCS is available; Picard version: Version:4.1.4.1\n",
      "INFO\t2020-02-17 17:31:15\tMergeVcfs\tProcessed        10,000 records.  Elapsed time: 00:00:01s.  Time for last 10,000:    1s.  Last read position: chr22:50,152,792\n",
      "INFO\t2020-02-17 17:31:16\tMergeVcfs\tProcessed        20,000 records.  Elapsed time: 00:00:02s.  Time for last 10,000:    0s.  Last read position: chr22:50,286,846\n",
      "INFO\t2020-02-17 17:31:17\tMergeVcfs\tProcessed        30,000 records.  Elapsed time: 00:00:03s.  Time for last 10,000:    0s.  Last read position: chr22:50,450,063\n",
      "INFO\t2020-02-17 17:31:17\tMergeVcfs\tProcessed        40,000 records.  Elapsed time: 00:00:03s.  Time for last 10,000:    0s.  Last read position: chr22:50,583,639\n",
      "INFO\t2020-02-17 17:31:18\tMergeVcfs\tProcessed        50,000 records.  Elapsed time: 00:00:04s.  Time for last 10,000:    0s.  Last read position: chr22:50,780,959\n",
      "[Mon Feb 17 17:31:18 PST 2020] picard.vcf.MergeVcfs done. Elapsed time: 0.08 minutes.\n",
      "Runtime.totalMemory()=460324864\n",
      "Tool returned:\n",
      "0\n"
     ]
    }
   ],
   "source": [
    "!gatk MergeVcfs \\\n",
    "-I Genetic-Variation/project/testdata/vcf/chr22_test.vcf.gz \\\n",
    "-I Genetic-Variation/project/testdata/vcf/chr22_test.vcf.gz \\\n",
    "-O output.vcf.gz"
   ]
  },
  {
   "cell_type": "code",
   "execution_count": 5,
   "metadata": {},
   "outputs": [
    {
     "ename": "SyntaxError",
     "evalue": "invalid syntax (<ipython-input-5-9e7c85873859>, line 2)",
     "output_type": "error",
     "traceback": [
      "\u001b[0;36m  File \u001b[0;32m\"<ipython-input-5-9e7c85873859>\"\u001b[0;36m, line \u001b[0;32m2\u001b[0m\n\u001b[0;31m    --vcf 'Genetic-Variation/project/testdata/vcf/chr22_test.vcf' \\\u001b[0m\n\u001b[0m                                                                ^\u001b[0m\n\u001b[0;31mSyntaxError\u001b[0m\u001b[0;31m:\u001b[0m invalid syntax\n"
     ]
    }
   ],
   "source": [
    "plink2 \\\n",
    "  --vcf 'Genetic-Variation/project/testdata/vcf/chr22_test.vcf' \\\n",
    "  --make-bed \\\n",
    "  --snps-only \\\n",
    "  --maf 0.05 \\\n",
    "  --geno 0.1 \\\n",
    "  --mind 0.05 \\\n",
    "  --recode \\\n",
    "  --out chr22\n"
   ]
  },
  {
   "cell_type": "code",
   "execution_count": null,
   "metadata": {},
   "outputs": [],
   "source": []
  }
 ],
 "metadata": {
  "kernelspec": {
   "display_name": "Python 3",
   "language": "python",
   "name": "python3"
  },
  "language_info": {
   "codemirror_mode": {
    "name": "ipython",
    "version": 3
   },
   "file_extension": ".py",
   "mimetype": "text/x-python",
   "name": "python",
   "nbconvert_exporter": "python",
   "pygments_lexer": "ipython3",
   "version": "3.7.3"
  }
 },
 "nbformat": 4,
 "nbformat_minor": 2
}
